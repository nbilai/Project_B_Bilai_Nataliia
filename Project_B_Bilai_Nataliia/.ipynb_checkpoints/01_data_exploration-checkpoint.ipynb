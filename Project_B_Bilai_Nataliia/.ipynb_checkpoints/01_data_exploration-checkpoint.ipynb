{
 "cells": [
  {
   "cell_type": "code",
   "execution_count": 1,
   "id": "1bbeb01b-a7cf-48e3-9e56-f55bceb94c54",
   "metadata": {},
   "outputs": [
    {
     "data": {
      "text/plain": [
       "['About',\n",
       " 'Overview',\n",
       " 'Codebook',\n",
       " 'Full Database',\n",
       " 'Raw Data',\n",
       " 'Backdated SDG Index']"
      ]
     },
     "execution_count": 1,
     "metadata": {},
     "output_type": "execute_result"
    }
   ],
   "source": [
    "import pandas as pd\n",
    "# Загружаем Excel-файл\n",
    "xls = pd.ExcelFile(\"esdr_2025_online_database.xlsx\")\n",
    "# Показываем список листов\n",
    "xls.sheet_names\n"
   ]
  },
  {
   "cell_type": "code",
   "execution_count": null,
   "id": "1fe4ed1b-ee4e-49f2-9398-c316d7e8db07",
   "metadata": {},
   "outputs": [],
   "source": [
    "import pandas as pd  # подключаем библиотеку pandas"
   ]
  }
 ],
 "metadata": {
  "kernelspec": {
   "display_name": "Python [conda env:base] *",
   "language": "python",
   "name": "conda-base-py"
  },
  "language_info": {
   "codemirror_mode": {
    "name": "ipython",
    "version": 3
   },
   "file_extension": ".py",
   "mimetype": "text/x-python",
   "name": "python",
   "nbconvert_exporter": "python",
   "pygments_lexer": "ipython3",
   "version": "3.13.5"
  }
 },
 "nbformat": 4,
 "nbformat_minor": 5
}
